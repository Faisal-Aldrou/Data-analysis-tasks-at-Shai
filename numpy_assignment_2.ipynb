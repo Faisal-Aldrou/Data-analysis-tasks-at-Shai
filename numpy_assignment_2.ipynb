{
 "cells": [
  {
   "cell_type": "code",
   "execution_count": 2,
   "id": "93ea0824",
   "metadata": {},
   "outputs": [],
   "source": [
    "import numpy as np"
   ]
  },
  {
   "cell_type": "code",
   "execution_count": 3,
   "id": "07e37c2d",
   "metadata": {},
   "outputs": [
    {
     "name": "stdout",
     "output_type": "stream",
     "text": [
      "[ 0  2  4  6  8 10 12 14 16 18 20]\n"
     ]
    }
   ],
   "source": [
    "arr = np.arange(0,21,2)\n",
    "print(arr)\n"
   ]
  },
  {
   "cell_type": "code",
   "execution_count": 4,
   "id": "64863f70",
   "metadata": {},
   "outputs": [
    {
     "name": "stdout",
     "output_type": "stream",
     "text": [
      "[[1. 0. 0.]\n",
      " [0. 1. 0.]\n",
      " [0. 0. 1.]]\n"
     ]
    }
   ],
   "source": [
    "eye = np.eye(3,3)\n",
    "print(eye)\n"
   ]
  },
  {
   "cell_type": "code",
   "execution_count": 5,
   "id": "bafa8760",
   "metadata": {},
   "outputs": [
    {
     "name": "stdout",
     "output_type": "stream",
     "text": [
      "[[1. 1. 1. 1.]\n",
      " [1. 1. 1. 1.]\n",
      " [1. 1. 1. 1.]\n",
      " [1. 1. 1. 1.]]\n"
     ]
    }
   ],
   "source": [
    "ones = np.ones(16).reshape(4,4)\n",
    "print(ones)"
   ]
  },
  {
   "cell_type": "code",
   "execution_count": 6,
   "id": "b5e32dcd",
   "metadata": {},
   "outputs": [
    {
     "name": "stdout",
     "output_type": "stream",
     "text": [
      "[ 5. 10. 15. 20. 25. 30. 35. 40. 45. 50.]\n"
     ]
    }
   ],
   "source": [
    "ls = np.linspace(5,50,10)\n",
    "print(ls)"
   ]
  },
  {
   "cell_type": "code",
   "execution_count": 7,
   "id": "b5e6ee9d",
   "metadata": {},
   "outputs": [
    {
     "name": "stdout",
     "output_type": "stream",
     "text": [
      "[10 20 30 40 50]\n"
     ]
    }
   ],
   "source": [
    "py_array = [10, 20, 30, 40, 50]\n",
    "np_array = np.array(py_array)\n",
    "\n",
    "print(np_array)\n"
   ]
  },
  {
   "cell_type": "code",
   "execution_count": 11,
   "id": "96e5c4ee",
   "metadata": {},
   "outputs": [
    {
     "data": {
      "text/plain": [
       "array([[8.46562499e-01, 7.11878093e-01, 4.39611359e-02],\n",
       "       [3.09172341e-04, 8.38985412e-01, 1.24922806e-01],\n",
       "       [3.21084616e-01, 1.45140468e-01, 9.69333112e-01]])"
      ]
     },
     "execution_count": 11,
     "metadata": {},
     "output_type": "execute_result"
    }
   ],
   "source": [
    "np.random.rand(3,3)"
   ]
  },
  {
   "cell_type": "code",
   "execution_count": 12,
   "id": "1d01fb9c",
   "metadata": {},
   "outputs": [
    {
     "data": {
      "text/plain": [
       "array([[ 1.31790373, -0.64513499, -0.59895353],\n",
       "       [ 1.73649985, -0.24941096,  0.06932655],\n",
       "       [-1.71572378, -0.07344536,  0.27002483]])"
      ]
     },
     "execution_count": 12,
     "metadata": {},
     "output_type": "execute_result"
    }
   ],
   "source": [
    "np.random.randn(3,3)"
   ]
  },
  {
   "cell_type": "code",
   "execution_count": 35,
   "id": "9d4fd8af",
   "metadata": {},
   "outputs": [
    {
     "name": "stdout",
     "output_type": "stream",
     "text": [
      "(3, 3)\n",
      "9\n",
      "<class 'numpy.ndarray'>\n"
     ]
    }
   ],
   "source": [
    "random = np.random.randint(1,10,9).reshape(3,3)\n",
    "print(np.shape(random))\n",
    "print(np.size(random))\n",
    "print(type(random))"
   ]
  },
  {
   "cell_type": "code",
   "execution_count": null,
   "id": "5b4899fd",
   "metadata": {},
   "outputs": [
    {
     "name": "stdout",
     "output_type": "stream",
     "text": [
      "5\n",
      "[20 25 30]\n",
      "[10 15 20 25]\n"
     ]
    }
   ],
   "source": [
    "second_array = np.array([5, 10, 15, 20, 25, 30])\n",
    "print(second_array[0])\n",
    "print(second_array[-3:])\n",
    "print(second_array[1:5])"
   ]
  },
  {
   "cell_type": "code",
   "execution_count": 64,
   "id": "c16ba470",
   "metadata": {},
   "outputs": [
    {
     "name": "stdout",
     "output_type": "stream",
     "text": [
      "[[1 2 3]\n",
      " [4 5 6]\n",
      " [7 8 9]]\n"
     ]
    }
   ],
   "source": [
    "mat = np.arange(1, 10).reshape(3, 3)\n",
    "print(mat)"
   ]
  },
  {
   "cell_type": "code",
   "execution_count": 65,
   "id": "8a4e0186",
   "metadata": {},
   "outputs": [
    {
     "name": "stdout",
     "output_type": "stream",
     "text": [
      "[4 5 6]\n"
     ]
    }
   ],
   "source": [
    "print(mat[1,:])"
   ]
  },
  {
   "cell_type": "code",
   "execution_count": 63,
   "id": "22548c82",
   "metadata": {},
   "outputs": [
    {
     "name": "stdout",
     "output_type": "stream",
     "text": [
      "[[1 2]\n",
      " [4 5]\n",
      " [7 8]]\n"
     ]
    }
   ],
   "source": [
    "print(mat[:,:2])"
   ]
  },
  {
   "cell_type": "code",
   "execution_count": null,
   "id": "287c67bb",
   "metadata": {},
   "outputs": [
    {
     "name": "stdout",
     "output_type": "stream",
     "text": [
      "[[5 6]\n",
      " [8 9]]\n"
     ]
    }
   ],
   "source": [
    "sub_mat = mat[1:3,1:3]\n",
    "print(sub_mat)"
   ]
  },
  {
   "cell_type": "code",
   "execution_count": null,
   "id": "639fabae",
   "metadata": {},
   "outputs": [
    {
     "name": "stdout",
     "output_type": "stream",
     "text": [
      "[[ 6  7  8]\n",
      " [ 9 10 11]\n",
      " [12 13 14]]\n"
     ]
    }
   ],
   "source": [
    "mat2 = np.arange(6,15).reshape(3, 3)\n",
    "print(mat2)\n"
   ]
  },
  {
   "cell_type": "code",
   "execution_count": null,
   "id": "664ea504",
   "metadata": {},
   "outputs": [
    {
     "name": "stdout",
     "output_type": "stream",
     "text": [
      "[[16 17 18]\n",
      " [19 20 21]\n",
      " [22 23 24]]\n"
     ]
    }
   ],
   "source": [
    "mat2_plus_10 = mat2 +10\n",
    "print(mat2_plus_10)\n"
   ]
  },
  {
   "cell_type": "code",
   "execution_count": 81,
   "id": "e6928fb0",
   "metadata": {},
   "outputs": [
    {
     "name": "stdout",
     "output_type": "stream",
     "text": [
      "[[ 64   7   8]\n",
      " [256  10  11]\n",
      " [448  13  14]]\n"
     ]
    }
   ],
   "source": [
    "mat2[:, 0] *= 2\n",
    "print(mat2)"
   ]
  },
  {
   "cell_type": "code",
   "execution_count": null,
   "id": "c419e0b5",
   "metadata": {},
   "outputs": [
    {
     "name": "stdout",
     "output_type": "stream",
     "text": [
      "Original: [99  2  3  4  5]\n",
      "Shallow Copy: [99  2  3  4  5]\n",
      "Deep Copy: [1 2 3 4 5]\n"
     ]
    }
   ],
   "source": [
    "\n",
    "original = np.array([1, 2, 3, 4, 5])\n",
    "\n",
    "\n",
    "shallow = original.view()\n",
    "deep = original.copy()\n",
    "original[0] = 99\n",
    "print(\"Original:\", original)\n",
    "print(\"Shallow Copy:\", shallow)\n",
    "print(\"Deep Copy:\", deep)\n"
   ]
  },
  {
   "cell_type": "code",
   "execution_count": 83,
   "id": "b5db2903",
   "metadata": {},
   "outputs": [
    {
     "name": "stdout",
     "output_type": "stream",
     "text": [
      "[10 40 60]\n"
     ]
    }
   ],
   "source": [
    "arr43 = np.arange(10, 101, 10)\n",
    "selected = arr43[[0, 3, 5]]\n",
    "print(selected)\n"
   ]
  },
  {
   "cell_type": "code",
   "execution_count": 87,
   "id": "48b6f16b",
   "metadata": {},
   "outputs": [
    {
     "name": "stdout",
     "output_type": "stream",
     "text": [
      "12\n",
      "4\n",
      "2\n",
      "2\n"
     ]
    }
   ],
   "source": [
    "arr5 = np.array([3, 7, 2, 9, 12, 5, 10])\n",
    "\n",
    "\n",
    "max_value = arr5.max()\n",
    "max_index = arr5.argmax()\n",
    "\n",
    "\n",
    "min_value = arr5.min()\n",
    "min_index = arr5.argmin()\n",
    "\n",
    "print(max_value)\n",
    "print(max_index)\n",
    "print( min_value)\n",
    "print(min_index)"
   ]
  },
  {
   "cell_type": "code",
   "execution_count": 88,
   "id": "6b762a80",
   "metadata": {},
   "outputs": [
    {
     "name": "stdout",
     "output_type": "stream",
     "text": [
      "[1.         1.41421356 1.73205081 2.         2.23606798]\n",
      "[  2.71828183   7.3890561   20.08553692  54.59815003 148.4131591 ]\n",
      "[ 0.84147098  0.90929743  0.14112001 -0.7568025  -0.95892427]\n",
      "[0.         0.69314718 1.09861229 1.38629436 1.60943791]\n"
     ]
    }
   ],
   "source": [
    "\n",
    "arr6 = np.array([1, 2, 3, 4, 5])\n",
    "\n",
    "sqrt_result = np.sqrt(arr6)\n",
    "exp_result = np.exp(arr6)\n",
    "sin_result = np.sin(arr6)\n",
    "log_result = np.log(arr6)\n",
    "\n",
    "print(sqrt_result)\n",
    "print( exp_result)\n",
    "print(sin_result)\n",
    "print(log_result)\n"
   ]
  }
 ],
 "metadata": {
  "kernelspec": {
   "display_name": "base",
   "language": "python",
   "name": "python3"
  },
  "language_info": {
   "codemirror_mode": {
    "name": "ipython",
    "version": 3
   },
   "file_extension": ".py",
   "mimetype": "text/x-python",
   "name": "python",
   "nbconvert_exporter": "python",
   "pygments_lexer": "ipython3",
   "version": "3.11.5"
  }
 },
 "nbformat": 4,
 "nbformat_minor": 5
}
